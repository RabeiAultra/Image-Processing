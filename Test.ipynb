{
 "cells": [
  {
   "cell_type": "markdown",
   "metadata": {},
   "source": [
    "From histogrm we notice the image is high contrast"
   ]
  },
  {
   "cell_type": "code",
   "execution_count": null,
   "metadata": {
    "scrolled": false
   },
   "outputs": [
    {
     "data": {
      "image/png": "[encoded data removed]",
      "text/plain": [
       "<matplotlib.figure.Figure at 0x2cc999008d0>"
      ]
     },
     "metadata": {},
     "output_type": "display_data"
    }
   ],
   "source": [
    "import cv2\n",
    "import numpy as np\n",
    "from matplotlib import pyplot as plt\n",
    "\n",
    "img = cv2.imread('images/moon.jpg')\n",
    "ret,thresh1 = cv2.threshold(img,210,255,cv2.THRESH_BINARY)\n",
    "\n",
    "plt.hist(img.ravel(),256,[0,256]); plt.show()\n",
    "\n",
    "\n",
    "background=cv2.add(thresh1,img)\n",
    "#background= cv2.medianBlur(background,9)\n",
    "\n",
    "background= cv2.blur(background,(7,7))\n",
    "#background= cv2.GaussianBlur(background,11)\n",
    "#background = cv2.GaussianBlur(background,(11,11),0)\n",
    "thresh1 = cv2.bitwise_not(thresh1)\n",
    "\n",
    "objectm=cv2.add(thresh1,img)\n",
    "background=cv2.bitwise_not(background)\n",
    "objectm=cv2.bitwise_not(objectm)\n",
    "newImg=cv2.add(background,objectm)\n",
    "newImg=cv2.bitwise_not(newImg)\n",
    "\n",
    "\n",
    "cv2.imshow('Flower',newImg)\n",
    "cv2.waitKey(0)\n",
    "cv2.destroyAllWindows()"
   ]
  },
  {
   "cell_type": "markdown",
   "metadata": {
    "collapsed": true
   },
   "source": [
    "Anothre Picture"
   ]
  },
  {
   "cell_type": "code",
   "execution_count": 3,
   "metadata": {},
   "outputs": [
    {
     "data": {
      "image/png": "[encoded data removed]",
      "text/plain": [
       "<matplotlib.figure.Figure at 0x1cb8b527fd0>"
      ]
     },
     "metadata": {},
     "output_type": "display_data"
    }
   ],
   "source": [
    "import cv2\n",
    "import numpy as np\n",
    "from matplotlib import pyplot as plt\n",
    "\n",
    "img = cv2.imread('../Ret/IMG-20170930-WA0001.jpg')\n",
    "\n",
    "#img= cv2.medianBlur(img,3)\n",
    "img = cv2.GaussianBlur(img,(3,3),0)\n",
    "ret,thresh1 = cv2.threshold(img,100,255,cv2.THRESH_BINARY)\n",
    "\n",
    "plt.hist(img.ravel(),256,[0,256]); plt.show()\n",
    "\n",
    "\n",
    "#thresh1= cv2.medianBlur(thresh1,5)\n",
    "cv2.imshow('Flower',thresh1)\n",
    "cv2.waitKey(0)\n",
    "cv2.destroyAllWindows()"
   ]
  },
  {
   "cell_type": "code",
   "execution_count": null,
   "metadata": {
    "collapsed": true
   },
   "outputs": [],
   "source": []
  }
 ],
 "metadata": {
  "kernelspec": {
   "display_name": "Python 3",
   "language": "python",
   "name": "python3"
  },
  "language_info": {
   "codemirror_mode": {
    "name": "ipython",
    "version": 3
   },
   "file_extension": ".py",
   "mimetype": "text/x-python",
   "name": "python",
   "nbconvert_exporter": "python",
   "pygments_lexer": "ipython3",
   "version": "3.6.1"
  }
 },
 "nbformat": 4,
 "nbformat_minor": 2
}
