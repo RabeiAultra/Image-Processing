{
 "cells": [
  {
   "cell_type": "markdown",
   "metadata": {},
   "source": [
    "# HomeWork Histogram"
   ]
  },
  {
   "cell_type": "markdown",
   "metadata": {},
   "source": [
    "## 1a"
   ]
  },
  {
   "cell_type": "code",
   "execution_count": 56,
   "metadata": {},
   "outputs": [
    {
     "data": {
      "image/png": "[encoded data removed]",
      "text/plain": [
       "<matplotlib.figure.Figure at 0x1f307370160>"
      ]
     },
     "metadata": {},
     "output_type": "display_data"
    },
    {
     "data": {
      "image/png": "[encoded data removed]",
      "text/plain": [
       "<matplotlib.figure.Figure at 0x1f306e34ba8>"
      ]
     },
     "metadata": {},
     "output_type": "display_data"
    },
    {
     "data": {
      "image/png": "[encoded data removed]",
      "text/plain": [
       "<matplotlib.figure.Figure at 0x1f307385a58>"
      ]
     },
     "metadata": {},
     "output_type": "display_data"
    }
   ],
   "source": [
    "import cv2\n",
    "import numpy as np\n",
    "from matplotlib import pyplot as plt\n",
    "from matplotlib import pyplot as plt2\n",
    "img1 = cv2.imread('images/flower.pgm',0)\n",
    "img2 = cv2.imread('images/swan.pgm',0)\n",
    "img3 = cv2.imread('images/tools.pgm',0)\n",
    "\n",
    "plt2.hist(img1.ravel(),256,[0,256])\n",
    "plt2.title(\"Flower\") ;plt2.show()\n",
    "plt2.hist(img2.ravel(),256,[0,256])\n",
    "plt2.title(\"Swan\") ;plt2.show()\n",
    "plt2.hist(img3.ravel(),256,[0,256])\n",
    "plt2.title(\"Tools\") ;plt2.show()\n",
    "\n",
    "\n",
    "\n",
    "#cv2.imshow('AB',img3)\n",
    "#cv2.waitKey(0)\n",
    "#cv2.destroyAllWindows()"
   ]
  },
  {
   "cell_type": "markdown",
   "metadata": {},
   "source": [
    "## 1b"
   ]
  },
  {
   "cell_type": "markdown",
   "metadata": {
    "collapsed": true
   },
   "source": [
    "from histogram we noticed the following :\n",
    "\n",
    "1- the flower image it's Low contrast \n",
    "\n",
    "2- The swan image it's High contrast\n",
    "\n",
    "3- the tools images it's very low contrast"
   ]
  },
  {
   "cell_type": "markdown",
   "metadata": {},
   "source": [
    "## 1c"
   ]
  },
  {
   "cell_type": "markdown",
   "metadata": {
    "collapsed": true
   },
   "source": [
    "## 1D"
   ]
  },
  {
   "cell_type": "code",
   "execution_count": 57,
   "metadata": {
    "scrolled": true
   },
   "outputs": [
    {
     "data": {
      "image/png": "[encoded data removed]",
      "text/plain": [
       "<matplotlib.figure.Figure at 0x1f306ec6f98>"
      ]
     },
     "metadata": {},
     "output_type": "display_data"
    }
   ],
   "source": [
    "img3 = cv2.equalizeHist(img3)\n",
    "#img2 = cv2.equalizeHist(img2)\n",
    "\n",
    "ret1,th1 = cv2.threshold(img1,0,255,cv2.THRESH_BINARY+cv2.THRESH_OTSU)\n",
    "ret2,th2 = cv2.threshold(img2,0,255,cv2.THRESH_BINARY+cv2.THRESH_OTSU)\n",
    "th3=cv2.adaptiveThreshold(img3,255,cv2.ADAPTIVE_THRESH_MEAN_C,cv2.THRESH_BINARY,67,19)\n",
    "\n",
    "plt.subplot(2,3,1),plt.imshow(th1,'gray')\n",
    "plt.title('flower'), plt.xticks([]), plt.yticks([])\n",
    "plt.subplot(2,3,2),plt.imshow(th2,'gray')\n",
    "plt.title('swan'), plt.xticks([]), plt.yticks([])\n",
    "plt.subplot(2,3,3),plt.imshow(th3,'gray')\n",
    "plt.title('tools'), plt.xticks([]), plt.yticks([]);\n",
    "plt.show()\n"
   ]
  },
  {
   "cell_type": "markdown",
   "metadata": {},
   "source": [
    "## 1D\n",
    "In the previous three images we use OTSU method because it automatically find the best value for the threshold\n",
    "Otsu's  thresholding method involves iterating through all the possible threshold values and calculating a measure of spread for the pixel levels each side of the threshold, i.e. the pixels that either fall in foreground or background. The aim is to find the threshold value where the sum of foreground and background spreads is at its minimum.\n",
    "\n",
    "However, each image has been processed separately\n",
    "1.In the flower image and depend on histogram we realize the image does not need the equalization histogram because  it high contrast,after thresholding we notice the edges and the objects are clear because the the image is high contrast.\n",
    "\n",
    "2.In the swan image and depend on histogram we release that the image does not need the equalization histogram because it high contrast , after thresholding we see the head and the body of the swan, but we can not see her legs because the color of the legs is very close to the background and the threshold could not distinguish between them.\n",
    "\n",
    "3-In the tools image we note from the histogram that the image has low contrast that it should have make equalization histogram . after equalization  appeared a new object is the white paper.\n",
    "And we used mean adaptive threshold because the image are enough foreground and background pixels in the local neighborhood of each pixel, the mean value lies between the intensity values of foreground and background and, therefore, separates easily."
   ]
  },
  {
   "cell_type": "markdown",
   "metadata": {},
   "source": []
  }
 ],
 "metadata": {
  "kernelspec": {
   "display_name": "Python 3",
   "language": "python",
   "name": "python3"
  },
  "language_info": {
   "codemirror_mode": {
    "name": "ipython",
    "version": 3
   },
   "file_extension": ".py",
   "mimetype": "text/x-python",
   "name": "python",
   "nbconvert_exporter": "python",
   "pygments_lexer": "ipython3",
   "version": "3.6.1"
  }
 },
 "nbformat": 4,
 "nbformat_minor": 2
}
